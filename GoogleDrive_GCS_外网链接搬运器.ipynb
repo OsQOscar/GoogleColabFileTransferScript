{
  "cells": [
    {
      "cell_type": "markdown",
      "metadata": {
        "id": "view-in-github",
        "colab_type": "text"
      },
      "source": [
        "<a href=\"https://colab.research.google.com/github/OsQOscar/GoogleColabFileTransferScript/blob/main/GoogleDrive_GCS_%E5%A4%96%E7%BD%91%E9%93%BE%E6%8E%A5%E6%90%AC%E8%BF%90%E5%99%A8.ipynb\" target=\"_parent\"><img src=\"https://colab.research.google.com/assets/colab-badge.svg\" alt=\"Open In Colab\"/></a>"
      ]
    },
    {
      "cell_type": "code",
      "execution_count": null,
      "metadata": {
        "id": "egO3FUbb4N8U"
      },
      "outputs": [],
      "source": [
        "#下载GoogleDrive的文件到Colab虚拟机本地\n",
        "#!gdown 文件ID【不需要引号/双引号】\n",
        "#如果文件超过下载限额750G流量限制，用!cp 来源文件路径 目标文件路径 方式可以实现强制文件复制到colab机器内\n",
        "!gdown 1FjB4vTgyxp-HC7u6rDqk0kPR-Hy6a4I2\n",
        "#wget -c -P '本地保存路径' http://外网文件路径/file.dat"
      ]
    },
    {
      "cell_type": "code",
      "execution_count": null,
      "metadata": {
        "id": "TiWDkUeTO1w8"
      },
      "outputs": [],
      "source": [
        "#搬运资源到backblaze\n",
        "#sudo pip3 install --upgrade --ignore-installed b2\n",
        "#keyID:4ea078f10c24\n",
        "#keyName:Master Application Key\n",
        "#applicationKey:0046c54896dc40438ad4cb2787b0413ebd3012af71\n",
        "!b2 authorize-account\n",
        "!b2 get-bucket oscar-2022\n",
        "#b2 upload-file oscar-2022 /content/Win11_Pro_for_Workstations_21H2_administrator_Teddysun.com.gz Win11_Pro_for_Workstations_21H2_administrator_Teddysun.com.gz"
      ]
    },
    {
      "cell_type": "code",
      "execution_count": null,
      "metadata": {
        "colab": {
          "background_save": true
        },
        "id": "2O9lpf8LrIDO"
      },
      "outputs": [],
      "source": [
        "#安装百度云搬运工具（只能访问我的应用数据）\n",
        "!pip install bypy\n",
        "!pip install requests\n",
        "#bypy syncdown -v -d -ddd\n",
        "!bypy upload /content/drive/Shareddrives/abusivedrive/1/2012_to_2014_Series.zip"
      ]
    },
    {
      "cell_type": "code",
      "execution_count": null,
      "metadata": {
        "id": "QMexXKGataif"
      },
      "outputs": [],
      "source": [
        "!pip install mediafire\n",
        "from mediafire import MediaFireApi\n",
        "!wget https://github.com/JayBrown/mfcmd.py---MediaFire-uploader/blob/master/mfcmd.py\n",
        "!mfcmd.py -e oscarqq2019@gmail.com -p qqqqq11111 -u /dailybackup2022 -h 68a5115b6a02233a60f43204402d0b54108db202 -f /content/2022100290000.zip"
      ]
    },
    {
      "cell_type": "code",
      "execution_count": null,
      "metadata": {
        "id": "-oexIxbm6tG0"
      },
      "outputs": [],
      "source": [
        "#挂载谷歌云盘\n",
        "from google.colab import drive\n",
        "drive.mount('/content/drive')\n",
        "#安装宝塔面板、Ngrok，ngrok addauthtoken填写的是自己ngrok账号的authtoken\n",
        "#程序运行的输出很重要，勿随意清除输出\n",
        "!curl -s https://ngrok-agent.s3.amazonaws.com/ngrok.asc | sudo tee /etc/apt/trusted.gpg.d/ngrok.asc >/dev/null && echo \"deb https://ngrok-agent.s3.amazonaws.com buster main\" | sudo tee /etc/apt/sources.list.d/ngrok.list && sudo apt update && sudo apt install ngrok\n",
        "!ngrok config add-authtoken 2FT5RCjFBjuxX7HnC7FkrVESZ5K_3dvYDeFCvfv9x9mK9u7Ff\n",
        "!curl -sL https://raw.githubusercontent.com/aoaostar/alidrive-uploader/v2/install.sh | bash\n",
        "!sudo apt install -y wget && wget -O install.sh https://raw.githubusercontent.com/aoaostar/alidrive-uploader-for-baota/v2/install.sh && bash install.sh install\n",
        "!chmod 777 \"/www/server/panel/plugin/alidrive/core/alidrive\" && \"/www/server/panel/plugin/alidrive/core/alidrive\" --root_path=\"网盘目录\" \"/content/install.sh\" /\n",
        "!wget -O install.sh http://download.bt.cn/install/install-ubuntu_6.0.sh && sudo bash install.sh ed8484bec"
      ]
    },
    {
      "cell_type": "code",
      "execution_count": null,
      "metadata": {
        "id": "_vs1a8F6WeFM"
      },
      "outputs": [],
      "source": [
        "#启动宝塔面板\n",
        "#阿里云盘token\n",
        "#ali_drive:\n",
        "#drive_id: 833126811\n",
        "#refresh_token: 032954fff4854353a1b1f3d8a55b9ce5\n",
        "#root_path: 网盘目录\n",
        "!bt\n",
        "!cat /etc/ssh/ssh_config | grep Port\n",
        "!ngrok tcp 8888\n",
        "#启动Ngrok后，需要访问https://dashboard.ngrok.com/tunnels获得ngrok给出的链接信息"
      ]
    },
    {
      "cell_type": "code",
      "execution_count": null,
      "metadata": {
        "id": "qJ2-n1dCteMl"
      },
      "outputs": [],
      "source": [
        "#安装Aria2\n",
        "!apt install wget curl ca-certificates\n",
        "!wget -N git.io/aria2.sh && chmod +x aria2.sh\n",
        "!./aria2.sh"
      ]
    },
    {
      "cell_type": "code",
      "execution_count": null,
      "metadata": {
        "id": "uVLAg2k65SE3"
      },
      "outputs": [],
      "source": [
        "#在google colab的机器内安装第三方SSH类软件\n",
        "!pkill -9 tmate\n",
        "!wget -nc https://github.com/tmate-io/tmate/releases/download/2.4.0/tmate-2.4.0-static-linux-i386.tar.xz &> /dev/null\n",
        "!tar --skip-old-files -xvf tmate-2.4.0-static-linux-i386.tar.xz &> /dev/null\n",
        "!rm -f nohup.out; bash -ic 'nohup ./tmate-2.4.0-static-linux-i386/tmate -S /tmp/tmate.sock new-session -d & disown -a' >/dev/null 2>&1\n",
        "!./tmate-2.4.0-static-linux-i386/tmate -S /tmp/tmate.sock wait tmate-ready\n",
        "!./tmate-2.4.0-static-linux-i386/tmate -S /tmp/tmate.sock display -p \"Connect with SSH address: #{tmate_ssh}\"\n",
        "!./tmate-2.4.0-static-linux-i386/tmate -S /tmp/tmate.sock display -p \"Connect with web: #{tmate_web}\""
      ]
    },
    {
      "cell_type": "code",
      "execution_count": null,
      "metadata": {
        "id": "WG8Y8V_XHaXa"
      },
      "outputs": [],
      "source": [
        "!pip install aliyundrive-fuse\n",
        "!aliyundrive-fuse --refresh-token 8454023fe8674c6889a56c2c1505d95e /content/123"
      ]
    },
    {
      "cell_type": "code",
      "execution_count": null,
      "metadata": {
        "id": "1Q7r6CnW-yN2"
      },
      "outputs": [],
      "source": [
        "!apt-get install aria2\n",
        "!aria2c -d /content -o filename.zip --file-allocation=none --load-cookies=/content/cookie.txt --summary-interval=10 https://hkc-download.weiyun.com/ftn_handler/83739fdc1c1427264838634b59ba9e193be35754958d1fd242d5eeaa874a189a0f27fba13ed9211b57e1c0480a36a634b45a5b2c70afb27cf7b148329b2c95c3/aBbackuppirateplan_20220825.z03?fname=aBbackuppirateplan_20220825.z03&from=30013&version=3.3.3.3"
      ]
    },
    {
      "cell_type": "code",
      "execution_count": null,
      "metadata": {
        "id": "xrxGxo-YCpeA"
      },
      "outputs": [],
      "source": [
        "#使用filedownload工具多线程下载文件\n",
        "!pip install filedown\n",
        "!filedown --thread -f file.zip -c /content/cookie.txt https://hkc-download.weiyun.com/ftn_handler/83739fdc1c1427264838634b59ba9e193be35754958d1fd242d5eeaa874a189a0f27fba13ed9211b57e1c0480a36a634b45a5b2c70afb27cf7b148329b2c95c3/aBbackuppirateplan_20220825.z03?fname=aBbackuppirateplan_20220825.z03&from=30013&version=3.3.3.3"
      ]
    },
    {
      "cell_type": "code",
      "execution_count": null,
      "metadata": {
        "id": "-XzBDWbr6nFn"
      },
      "outputs": [],
      "source": [
        "#GoogleCloudPlatformAccount=oscarqq2019@gmail.com\n",
        "#验证GCP存储桶访问权限并设定GCP默认项目ID\n",
        "#例子project id是abc-abc-123，那么此处应该这样写\n",
        "#project_id = 'abc-abc-123'\n",
        "#!gcloud config set project abc-abc-123\n",
        "from google.colab import drive\n",
        "drive.mount('/content/drive')\n",
        "from google.colab import auth\n",
        "auth.authenticate_user()\n",
        "project_id = 'hopeful-subject-284808'\n",
        "!gcloud config set project hopeful-subject-284808\n",
        "!gsutil ls\n",
        "#路径语法 !gsutil -m cp -r '文件来源' gs://存储桶ID/路径\n",
        "#GoogleGCP存储桶分片上传对象到存储桶\n",
        "#gsutil -m -o GSUtil:parallel_composite_upload_threshold=1024M cp -r /content/1GB.file gs://yourownbucket.appspot.com/folder/\n",
        "!cp /content/drive/MyDrive/1/2023090190000.zip /content/\n",
        "!gsutil -m cp -r /content/2023090190000.zip gs://hopeful-subject-284808.appspot.com/dailybackups/\n",
        "!gsutil -m cp -r /content/2023090190000.zip gs://staging.hopeful-subject-284808.appspot.com/dailybackups/\n",
        "!rm /content/2023090190000.zip"
      ]
    },
    {
      "cell_type": "code",
      "execution_count": null,
      "metadata": {
        "id": "t8HVVp1XW13X"
      },
      "outputs": [],
      "source": [
        "#GoogleCloudPlatformAccount=oscarqq20112@gmail.com\n",
        "#验证GCP存储桶访问权限并设定GCP默认项目ID\n",
        "#例子project id是abc-abc-123，那么此处应该这样写\n",
        "#project_id = 'abc-abc-123'\n",
        "#!gcloud config set project abc-abc-123\n",
        "from google.colab import drive\n",
        "drive.mount('/content/drive')\n",
        "from google.colab import auth\n",
        "auth.authenticate_user()\n",
        "project_id = 'oscar-20210527-103608'\n",
        "!gcloud config set project oscar-20210527-103608\n",
        "!gsutil ls\n",
        "#路径语法 !gsutil -m cp -r '文件来源' gs://存储桶ID/路径\n",
        "#GoogleGCP存储桶分片上传对象到存储桶\n",
        "#gsutil -m -o GSUtil:parallel_composite_upload_threshold=1024M cp -r /content/1GB.file gs://yourownbucket.appspot.com/folder/\n",
        "!cp /content/drive/MyDrive/1/2023090190000.zip /content/\n",
        "!gsutil -m cp -r /content/2023090190000.zip gs://oscar-20210527-103608.appspot.com/dailybackups/\n",
        "!gsutil -m cp -r /content/2023090190000.zip gs://staging.oscar-20210527-103608.appspot.com/dailybackups/\n",
        "!rm /content/2023090190000.zip"
      ]
    },
    {
      "cell_type": "code",
      "execution_count": null,
      "metadata": {
        "id": "863dnu9BA-nv"
      },
      "outputs": [],
      "source": [
        "#GoogleCloudPlatformAccount=oscarqq20112@gmail.com\n",
        "#验证GCP存储桶访问权限并设定GCP默认项目ID\n",
        "#例子project id是abc-abc-123，那么此处应该这样写\n",
        "#project_id = 'abc-abc-123'\n",
        "#!gcloud config set project abc-abc-123\n",
        "from google.colab import drive\n",
        "drive.mount('/content/drive')\n",
        "from google.colab import auth\n",
        "auth.authenticate_user()\n",
        "project_id= 'agile-polymer-363608'\n",
        "!gcloud config set project agile-polymer-363608\n",
        "!gsutil ls\n",
        "#路径语法 !gsutil -m cp -r '文件来源' gs://存储桶ID/路径\n",
        "#GoogleGCP存储桶分片上传对象到存储桶\n",
        "#gsutil -m -o GSUtil:parallel_composite_upload_threshold=1024M cp -r /content/1GB.file gs://yourownbucket.appspot.com/folder/\n",
        "!cp /content/drive/MyDrive/1/2023090190000.zip /content/\n",
        "!gsutil -m cp -r /content/2023090190000.zip gs://agile-polymer-363608.appspot.com/dailybackups/\n",
        "!gsutil -m cp -r /content/2023090190000.zip gs://staging.agile-polymer-363608.appspot.com/dailybackups/\n",
        "!rm /content/2023090190000.zip"
      ]
    },
    {
      "cell_type": "code",
      "execution_count": null,
      "metadata": {
        "id": "zw2cxqk2XT93"
      },
      "outputs": [],
      "source": [
        "#GoogleCloudPlatformAccount=borrowmoneywithoutreturn@gmail.com\n",
        "#验证GCP存储桶访问权限并设定GCP默认项目ID\n",
        "#例子project id是abc-abc-123，那么此处应该这样写\n",
        "#project_id = 'abc-abc-123'\n",
        "#!gcloud config set project abc-abc-123\n",
        "from google.colab import drive\n",
        "drive.mount('/content/drive')\n",
        "from google.colab import auth\n",
        "auth.authenticate_user()\n",
        "project_id = 'disco-beach-312712'\n",
        "!gcloud config set project disco-beach-312712\n",
        "!gsutil ls\n",
        "#路径语法 !gsutil -m cp -r '文件来源' gs://存储桶ID/路径\n",
        "#GoogleGCP存储桶分片上传对象到存储桶\n",
        "#gsutil -m -o GSUtil:parallel_composite_upload_threshold=1024M cp -r /content/1GB.file gs://yourownbucket.appspot.com/folder/\n",
        "!cp /content/drive/MyDrive/1/2023090190000.zip /content/\n",
        "!gsutil -m cp -r /content/2023090190000.zip gs://disco-beach-312712.appspot.com/dailybackups/\n",
        "!gsutil -m cp -r /content/2023090190000.zip gs://staging.disco-beach-312712.appspot.com/dailybackups/\n",
        "!rm /content/2023090190000.zip"
      ]
    },
    {
      "cell_type": "code",
      "execution_count": null,
      "metadata": {
        "id": "KPitw9NyATvb"
      },
      "outputs": [],
      "source": [
        "#GoogleCloudPlatformAccount=beizereikoht43@gmail.com\n",
        "#验证GCP存储桶访问权限并设定GCP默认项目ID\n",
        "#例子project id是abc-abc-123，那么此处应该这样写\n",
        "#project_id = 'abc-abc-123'\n",
        "#!gcloud config set project abc-abc-123\n",
        "from google.colab import drive\n",
        "drive.mount('/content/drive')\n",
        "from google.colab import auth\n",
        "auth.authenticate_user()\n",
        "project_id= 'studied-union-319312'\n",
        "!gcloud config set project studied-union-319312\n",
        "!gsutil ls\n",
        "#路径语法 !gsutil -m cp -r '文件来源' gs://存储桶ID/路径\n",
        "#GoogleGCP存储桶分片上传对象到存储桶\n",
        "#gsutil -m -o GSUtil:parallel_composite_upload_threshold=1024M cp -r /content/1GB.file gs://yourownbucket.appspot.com/folder/\n",
        "!cp /content/drive/MyDrive/1/2023090190000.zip /content/\n",
        "!gsutil -m cp -r /content/2023090190000.zip gs://studied-union-319312.appspot.com/dailybackups/\n",
        "!gsutil -m cp -r /content/2023090190000.zip gs://staging.studied-union-319312.appspot.com/dailybackups/\n",
        "!rm /content/2023090190000.zip"
      ]
    },
    {
      "cell_type": "code",
      "execution_count": null,
      "metadata": {
        "id": "VJTJmWlIe1q1"
      },
      "outputs": [],
      "source": [
        "#GoogleCloudPlatformAccount=oscarqq2019@gmail.com\n",
        "#验证GCP存储桶访问权限并设定GCP默认项目ID\n",
        "#例子project id是abc-abc-123，那么此处应该这样写\n",
        "#project_id = 'abc-abc-123'\n",
        "#!gcloud config set project abc-abc-123\n",
        "from google.colab import drive\n",
        "drive.mount('/content/drive')\n",
        "from google.colab import auth\n",
        "auth.authenticate_user()\n",
        "project_id = 'oscar-project-2023'\n",
        "!gcloud config set project oscar-project-2023\n",
        "!gsutil ls\n",
        "#路径语法 !gsutil -m cp -r '文件来源' gs://存储桶ID/路径\n",
        "#GoogleGCP存储桶分片上传对象到存储桶\n",
        "#gsutil -m -o GSUtil:parallel_composite_upload_threshold=1024M cp -r /content/1GB.file gs://yourownbucket.appspot.com/folder/\n",
        "!cp /content/drive/MyDrive/1/2023090190000.zip /content/\n",
        "!gsutil -m cp -r /content/drive/MyDrive/1/2023090190000.zip gs://oscar-project-2023.appspot.com/AFILES/\n",
        "!gsutil -m cp -r /content/drive/MyDrive/1/2023090190000.zip gs://staging.oscar-project-2023.appspot.com/AFILES/\n",
        "!rm /content/2023090190000.zip\n",
        "!gsutil -m cp -r /content/drive/MyDrive/1/InstallNET.sh gs://oscar-project-2023.appspot.com/\n",
        "!gsutil -m cp -r /content/drive/MyDrive/1/InstallNET.sh gs://staging.oscar-project-2023.appspot.com/\n",
        "!gsutil -m cp -r /content/drive/MyDrive/1/Win_Server2019_64_Administrator_WinSrv2019dc-Chinese.gz gs://oscar-project-2023.appspot.com/\n",
        "!gsutil -m cp -r /content/drive/MyDrive/1/Win_Server2019_64_Administrator_WinSrv2019dc-Chinese.gz gs://staging.oscar-project-2023.appspot.com/"
      ]
    },
    {
      "cell_type": "code",
      "execution_count": null,
      "metadata": {
        "id": "pValYNlytSeF"
      },
      "outputs": [],
      "source": [
        "#搬运weiyun.com的资源到公网，使得资源可被公网访问，前提条件：资源已经位于weiyun.com的'我的文件'文件夹内，此资源必须已经成功保存，不能是正在请求/未完成传输的数据\n",
        "!wget -d --header=\"User-Agent: Mozilla/5.0 (Windows NT 6.1; Trident/7.0; rv:11.0) like Gecko\"  --cookies=on --load-cookies=cookie.txt --keep-session-cookies --save-cookies=cookie.txt https://微云的实际DOWNLOADLINKURL\n",
        "#上传文件到HFS文件服务器\n",
        "#curl -F fileupload1=@/复制colab机器的真实文件路径 -F press=\"Upload files\" http://目标服务器IP:端口/路径\n",
        "!curl -F fileupload1=@/content/drive/Shareddrives/abusivedrive/dailybackup/50GBNULLDATA.file -F press=\"Upload files\" http://1.2.3.4/folder/\n",
        "!curl -F fileupload1=@/content/ABC.FILE -F press=\"Upload files\" http://1.2.3.4/folder/"
      ]
    },
    {
      "cell_type": "code",
      "execution_count": null,
      "metadata": {
        "colab": {
          "background_save": true
        },
        "id": "ccLxIXrcSKM-"
      },
      "outputs": [],
      "source": [
        "!pip3 install instaloader\n",
        "!instaloader profile --login OsQ_Oscar"
      ]
    },
    {
      "cell_type": "code",
      "execution_count": null,
      "metadata": {
        "id": "4cRcDX32KQPS"
      },
      "outputs": [],
      "source": [
        "#!cp 来源文件路径 目标文件路径\n",
        "!cp /content/oscardecrypt广州市电子信息学校001.zip /content/drive/Shareddrives/临时盘/www"
      ]
    }
  ],
  "metadata": {
    "colab": {
      "provenance": [],
      "include_colab_link": true
    },
    "gpuClass": "standard",
    "kernelspec": {
      "display_name": "Python 3",
      "name": "python3"
    },
    "language_info": {
      "name": "python"
    }
  },
  "nbformat": 4,
  "nbformat_minor": 0
}